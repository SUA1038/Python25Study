{
  "nbformat": 4,
  "nbformat_minor": 0,
  "metadata": {
    "colab": {
      "provenance": [],
      "authorship_tag": "ABX9TyP/NzgfDQhOQLjrA90aNYvc",
      "include_colab_link": true
    },
    "kernelspec": {
      "name": "python3",
      "display_name": "Python 3"
    },
    "language_info": {
      "name": "python"
    }
  },
  "cells": [
    {
      "cell_type": "markdown",
      "metadata": {
        "id": "view-in-github",
        "colab_type": "text"
      },
      "source": [
        "<a href=\"https://colab.research.google.com/github/SUA1038/Python25Study/blob/master/if%EB%AC%B8.ipynb\" target=\"_parent\"><img src=\"https://colab.research.google.com/assets/colab-badge.svg\" alt=\"Open In Colab\"/></a>"
      ]
    },
    {
      "cell_type": "code",
      "execution_count": null,
      "metadata": {
        "colab": {
          "base_uri": "https://localhost:8080/"
        },
        "id": "yqA08gOD7tBj",
        "outputId": "c88a2f29-3da7-4146-cf6d-a992a59c7871"
      },
      "outputs": [
        {
          "output_type": "stream",
          "name": "stdout",
          "text": [
            "택시를 타고 간다.\n"
          ]
        }
      ],
      "source": [
        "# if문\n",
        "\n",
        "money = True\n",
        "\n",
        "if money:\n",
        "  print(\"택시를 타고 간다.\")\n",
        "else:\n",
        "    print(\"걸어 간다.\")"
      ]
    },
    {
      "cell_type": "code",
      "source": [
        "money = True\n",
        "if money:\n",
        "  print(\"택시를\")\n",
        "  print(\"타고\")\n",
        "  print(\"간다.\")\n",
        "\n",
        "# 들여쓰기를 바르게 사용하지 않으면 오류 발생."
      ],
      "metadata": {
        "colab": {
          "base_uri": "https://localhost:8080/"
        },
        "id": "mvfgph4C8s1L",
        "outputId": "cfe9f684-1e7a-41b9-ded7-e7272a786222"
      },
      "execution_count": null,
      "outputs": [
        {
          "output_type": "stream",
          "name": "stdout",
          "text": [
            "택시를\n",
            "타고\n",
            "간다.\n"
          ]
        }
      ]
    },
    {
      "cell_type": "code",
      "source": [
        "money = 2000\n",
        "if money >= 3000:\n",
        "  print(\"택시를 타고 간다.\")\n",
        "else:\n",
        "  print(\"걸어 간다.\")"
      ],
      "metadata": {
        "colab": {
          "base_uri": "https://localhost:8080/"
        },
        "id": "dRT44Rkt9RgH",
        "outputId": "e6ac3ce2-5ad5-4bdd-92ea-826c7f00b977"
      },
      "execution_count": null,
      "outputs": [
        {
          "output_type": "stream",
          "name": "stdout",
          "text": [
            "걸어 간다.\n"
          ]
        }
      ]
    },
    {
      "cell_type": "code",
      "source": [
        "# x or y : x와 y 둘 중 하나만 참이어도 참이다.\n",
        "# x and y : x와 y 모두 참이어야 참이다.\n",
        "# not x : x가 거짓이면 참이다."
      ],
      "metadata": {
        "id": "PcvbxCle91ST"
      },
      "execution_count": null,
      "outputs": []
    },
    {
      "cell_type": "code",
      "source": [
        "money = 2000\n",
        "card = True\n",
        "\n",
        "if money >= 3000 or card:\n",
        "  print(\"택시를 타고 간다.\")\n",
        "else:\n",
        "  print(\"걸어간다.\")"
      ],
      "metadata": {
        "colab": {
          "base_uri": "https://localhost:8080/"
        },
        "id": "8ujrwezf-D1L",
        "outputId": "86bcaabe-163d-49b9-b630-2d45fdfae729"
      },
      "execution_count": null,
      "outputs": [
        {
          "output_type": "stream",
          "name": "stdout",
          "text": [
            "택시를 타고 간다.\n"
          ]
        }
      ]
    },
    {
      "cell_type": "code",
      "source": [
        "1 in [1, 2, 3]\n",
        "# 결과값 True\n",
        "\n",
        "1 not in [1, 2, 3]\n",
        "# 결과값 False"
      ],
      "metadata": {
        "colab": {
          "base_uri": "https://localhost:8080/"
        },
        "id": "qoKRVcOL-QWr",
        "outputId": "7fe4e6c8-cdc0-4f3e-d61a-11d0bfcf07d3"
      },
      "execution_count": null,
      "outputs": [
        {
          "output_type": "execute_result",
          "data": {
            "text/plain": [
              "False"
            ]
          },
          "metadata": {},
          "execution_count": 10
        }
      ]
    },
    {
      "cell_type": "code",
      "source": [
        "# 만약 주머니에 돈이 있으면 택시를 타고 가고, 없으면 걸어간다/\n",
        "\n",
        "pocket = ['paper', 'cellphone', 'money']\n",
        "\n",
        "if 'money' in pocket:\n",
        "  print(\"택시를 타고 간다.\")\n",
        "else:\n",
        "  print(\"걸어 간다.\")"
      ],
      "metadata": {
        "colab": {
          "base_uri": "https://localhost:8080/"
        },
        "id": "zmnCwKD5-uIr",
        "outputId": "77ff1905-d291-48c9-b910-d91e589a9b5a"
      },
      "execution_count": null,
      "outputs": [
        {
          "output_type": "stream",
          "name": "stdout",
          "text": [
            "택시를 타고 간다.\n"
          ]
        }
      ]
    },
    {
      "cell_type": "code",
      "source": [
        "# 다양한 조건을 판단하는 elif\n",
        "\n",
        "# 주머니에 돈이 있으면 택시를 타고 가고\n",
        "# 주머니에 돈은 없지만 카드가 있으면 택시를 타고 가고\n",
        "# 돈도 없고 카드도 없으면 걸어간다.\n",
        "\n",
        "poket = ['paper', 'cellphone']\n",
        "card = True\n",
        "\n",
        "if 'money' in poket:\n",
        "  print(\"택시를 타고간다.\")\n",
        "elif card:\n",
        "\n",
        "  print(\"택시를 타고간다.\")\n",
        "else:\n",
        "  print(\"걸어간다.\")\n",
        "\n",
        "# elif는 이전 조건문이 거짓일 때 수행된다.\n",
        "# elif는 개수에 제한 없이 사용할 수 있다."
      ],
      "metadata": {
        "colab": {
          "base_uri": "https://localhost:8080/"
        },
        "id": "cmf237Ab_VY_",
        "outputId": "8c6c9e2b-3d13-48a0-a74a-a4f8e4c5a694"
      },
      "execution_count": null,
      "outputs": [
        {
          "output_type": "stream",
          "name": "stdout",
          "text": [
            "택시를 타고간다.\n"
          ]
        }
      ]
    },
    {
      "cell_type": "code",
      "source": [
        "# if문 한줄로 작성하기\n",
        "\n",
        "pocket = ['paper', 'money', 'cellphone']\n",
        "if 'money' in pocket: pass\n",
        "else: print(\"카드를 꺼낸다.\")"
      ],
      "metadata": {
        "id": "ODtZabbJAQcL"
      },
      "execution_count": null,
      "outputs": []
    },
    {
      "cell_type": "code",
      "source": [
        "# 비교 연산자의 연쇄 사용\n",
        "\n",
        "x = 5\n",
        "1 < x < 10 # x가 1보다 크고 10보다 작은가?\n",
        "# 결과값 True\n",
        "\n",
        "10 <= x <= 20\n",
        "# 결과값 False\n",
        "\n",
        "# 아래 코드와 동일\n",
        "x = 5\n",
        "(1 < x) and (x < 10)\n",
        "# 결과값 True\n",
        "\n",
        "(10 <= x) and (x <= 20)\n",
        "# 결과값 False"
      ],
      "metadata": {
        "colab": {
          "base_uri": "https://localhost:8080/"
        },
        "id": "K4ZKoRc5Ae8T",
        "outputId": "939a577c-b850-4cbb-af01-432d5ed5d1b8"
      },
      "execution_count": null,
      "outputs": [
        {
          "output_type": "execute_result",
          "data": {
            "text/plain": [
              "False"
            ]
          },
          "metadata": {},
          "execution_count": 17
        }
      ]
    },
    {
      "cell_type": "code",
      "source": [
        "# 조건부 표현식\n",
        "\n",
        "score = 85\n",
        "\n",
        "if score >= 60:\n",
        "  result = \"합격\"\n",
        "else :\n",
        "  result = \"불합격\"\n",
        "\n",
        "print(result)"
      ],
      "metadata": {
        "colab": {
          "base_uri": "https://localhost:8080/"
        },
        "id": "AL6nWAH0A7i7",
        "outputId": "7193e89a-51b4-4371-cc61-d48b4a089d8e"
      },
      "execution_count": null,
      "outputs": [
        {
          "output_type": "stream",
          "name": "stdout",
          "text": [
            "합격\n"
          ]
        }
      ]
    },
    {
      "cell_type": "code",
      "source": [
        "# 조건부 표현ㅅ식으로 한줄정리\n",
        "\n",
        "score = 85\n",
        "reuslt = \"합격\" if score >=60 else \"불합격\"\n",
        "print(result)"
      ],
      "metadata": {
        "colab": {
          "base_uri": "https://localhost:8080/"
        },
        "id": "4XRQH2q6BRUv",
        "outputId": "1830027c-ee79-4f3e-8e17-eba0861c4a94"
      },
      "execution_count": null,
      "outputs": [
        {
          "output_type": "stream",
          "name": "stdout",
          "text": [
            "합격\n"
          ]
        }
      ]
    },
    {
      "cell_type": "code",
      "source": [
        "# 조건식의 기본 형태\n",
        "\n",
        "# 변수 = 참일_때_값 if 조건 else 거짓말일_때_값"
      ],
      "metadata": {
        "id": "amVEB9uWBiPP"
      },
      "execution_count": null,
      "outputs": []
    },
    {
      "cell_type": "code",
      "source": [
        "age = 19\n",
        "status = \"성인\" if age >= 18 else \"미성년\"\n",
        "print(status)"
      ],
      "metadata": {
        "colab": {
          "base_uri": "https://localhost:8080/"
        },
        "id": "ctjA_QipCryY",
        "outputId": "6bdac156-99d3-4b92-d4ae-6a07fe75397e"
      },
      "execution_count": null,
      "outputs": [
        {
          "output_type": "stream",
          "name": "stdout",
          "text": [
            "성인\n"
          ]
        }
      ]
    },
    {
      "cell_type": "code",
      "source": [
        "temperature = 25\n",
        "weather = \"따뜻함\" if temperature > 20 else \"추움\"\n",
        "print(weather)"
      ],
      "metadata": {
        "colab": {
          "base_uri": "https://localhost:8080/"
        },
        "id": "pZ_jC81qC1MD",
        "outputId": "b5694ce8-9908-4841-89fd-28e258d3d0d0"
      },
      "execution_count": null,
      "outputs": [
        {
          "output_type": "stream",
          "name": "stdout",
          "text": [
            "따뜻함\n"
          ]
        }
      ]
    },
    {
      "cell_type": "code",
      "source": [
        "money = 1500\n",
        "transportation = \"버스\" if money >= 1000 else \"도보\"\n",
        "print(transportation)"
      ],
      "metadata": {
        "colab": {
          "base_uri": "https://localhost:8080/"
        },
        "id": "H2NxIs_tC_XD",
        "outputId": "48d2736c-fe12-4064-bfec-5b2eecf96c69"
      },
      "execution_count": null,
      "outputs": [
        {
          "output_type": "stream",
          "name": "stdout",
          "text": [
            "버스\n"
          ]
        }
      ]
    },
    {
      "cell_type": "code",
      "source": [
        "# while문\n",
        "\n",
        "# while 조건문 :\n",
        "#   수행할_문장1\n",
        "#   수행할_문장2\n",
        "#   수행할_문장3\n",
        "#   ..."
      ],
      "metadata": {
        "id": "Cr0S7b8hDOjn"
      },
      "execution_count": null,
      "outputs": []
    },
    {
      "cell_type": "code",
      "source": [
        "# 열 번 찍어 안 넘어가는 나무 없다\n",
        "\n",
        "treeHit = 0\n",
        "while treeHit < 10:\n",
        "  treeHit = treeHit + 1\n",
        "  print(\"너무를 %d번 찍었습니다.\" % treeHit)\n",
        "  if treeHit == 10:\n",
        "    print(\"나무가 넘어갑니다.\")"
      ],
      "metadata": {
        "colab": {
          "base_uri": "https://localhost:8080/"
        },
        "id": "uaLRVkvqDeqP",
        "outputId": "0f5013fa-fc88-4b6b-cc1a-67c7a5b4807f"
      },
      "execution_count": null,
      "outputs": [
        {
          "output_type": "stream",
          "name": "stdout",
          "text": [
            "너무를 1번 찍었습니다.\n",
            "너무를 2번 찍었습니다.\n",
            "너무를 3번 찍었습니다.\n",
            "너무를 4번 찍었습니다.\n",
            "너무를 5번 찍었습니다.\n",
            "너무를 6번 찍었습니다.\n",
            "너무를 7번 찍었습니다.\n",
            "너무를 8번 찍었습니다.\n",
            "너무를 9번 찍었습니다.\n",
            "너무를 10번 찍었습니다.\n",
            "나무가 넘어갑니다.\n"
          ]
        }
      ]
    },
    {
      "cell_type": "code",
      "source": [
        "from typing import List\n",
        "# 여러가지 선택지 중 하나를 선택해서 입력받는 예제\n",
        "\n",
        "prompt = \"\"\"\n",
        "    1. Add\n",
        "    2. Del\n",
        "    3. List\n",
        "    4. Quit\n",
        "\n",
        "    Enter number: \"\"\"\n",
        "\n",
        "number = 0\n",
        "while number != 4:\n",
        "  print(prompt)\n",
        "  number = int(input())\n",
        "\n",
        "Enter number:\n",
        "2"
      ],
      "metadata": {
        "colab": {
          "base_uri": "https://localhost:8080/",
          "height": 110
        },
        "id": "UTiaikXDD1WW",
        "outputId": "f488c5ff-8e05-40b8-d861-6aaaa3e3cdac"
      },
      "execution_count": null,
      "outputs": [
        {
          "output_type": "error",
          "ename": "SyntaxError",
          "evalue": "invalid syntax (ipython-input-1833456868.py, line 17)",
          "traceback": [
            "\u001b[0;36m  File \u001b[0;32m\"/tmp/ipython-input-1833456868.py\"\u001b[0;36m, line \u001b[0;32m17\u001b[0m\n\u001b[0;31m    Enter number:\u001b[0m\n\u001b[0m          ^\u001b[0m\n\u001b[0;31mSyntaxError\u001b[0m\u001b[0;31m:\u001b[0m invalid syntax\n"
          ]
        }
      ]
    },
    {
      "cell_type": "code",
      "source": [
        "# 커피 자판기\n",
        "\n",
        "coffee = 10\n",
        "money = 300\n",
        "while money:\n",
        "  print(\"잔액 확인. 커피 출력.\")\n",
        "  cooffee = coffee - 1\n",
        "  print(\"남의 커피의 양 : %d\" % coffee)\n",
        "\n",
        "  if coffee = 0\n",
        "    print(\"커피 물량 소진. 판매 중지.\")\n",
        "    break"
      ],
      "metadata": {
        "colab": {
          "base_uri": "https://localhost:8080/",
          "height": 110
        },
        "id": "Miei7YekIyMr",
        "outputId": "7c3c290d-11bc-439e-96f1-6234e6da92db"
      },
      "execution_count": null,
      "outputs": [
        {
          "output_type": "error",
          "ename": "SyntaxError",
          "evalue": "invalid syntax. Maybe you meant '==' or ':=' instead of '='? (ipython-input-622658294.py, line 10)",
          "traceback": [
            "\u001b[0;36m  File \u001b[0;32m\"/tmp/ipython-input-622658294.py\"\u001b[0;36m, line \u001b[0;32m10\u001b[0m\n\u001b[0;31m    if coffee = 0\u001b[0m\n\u001b[0m       ^\u001b[0m\n\u001b[0;31mSyntaxError\u001b[0m\u001b[0;31m:\u001b[0m invalid syntax. Maybe you meant '==' or ':=' instead of '='?\n"
          ]
        }
      ]
    },
    {
      "cell_type": "code",
      "source": [],
      "metadata": {
        "id": "1gpeJLcYJ6yo"
      },
      "execution_count": null,
      "outputs": []
    },
    {
      "cell_type": "code",
      "source": [
        "# 커피 자판기 2\n",
        "\n",
        "coffee = 10\n",
        "while True:\n",
        "  money = int(input(\"돈을 넣어 주세요: \"))\n",
        "  if money == 300:\n",
        "    print(\"커피를 줍니다.\")\n",
        "    coffee = coffee - 1\n",
        "  elif money > 300:\n",
        "    print(\"거스름돈 %d 반환. 커피 출력.\" % (money - 300))\n",
        "  else:\n",
        "    print(\"돈 반환. 커피 미출력.\")\n",
        "    print(\"남은 커피의 양 : %d\" % coffee)\n",
        "  if coffee == 0:\n",
        "    print(\"커피 물량 소진. 판매 중지.\")\n",
        "    break"
      ],
      "metadata": {
        "colab": {
          "base_uri": "https://localhost:8080/",
          "height": 518
        },
        "id": "72G7VoUpJN2b",
        "outputId": "112d2fbf-0abc-48be-d5b9-5bbb803a7f86"
      },
      "execution_count": null,
      "outputs": [
        {
          "output_type": "stream",
          "name": "stdout",
          "text": [
            "돈을 넣어 주세요: 500\n",
            "거스름돈 200 반환. 커피 풀력.\n",
            "돈을 넣어 주세요: 300\n",
            "커피를 줍니다.\n",
            "돈을 넣어 주세요: 100\n",
            "돈 반환. 커피 미출력.\n",
            "남은 커피의 양 : 9\n"
          ]
        },
        {
          "output_type": "error",
          "ename": "KeyboardInterrupt",
          "evalue": "Interrupted by user",
          "traceback": [
            "\u001b[0;31m---------------------------------------------------------------------------\u001b[0m",
            "\u001b[0;31mKeyboardInterrupt\u001b[0m                         Traceback (most recent call last)",
            "\u001b[0;32m/tmp/ipython-input-2902705787.py\u001b[0m in \u001b[0;36m<cell line: 0>\u001b[0;34m()\u001b[0m\n\u001b[1;32m      3\u001b[0m \u001b[0mcoffee\u001b[0m \u001b[0;34m=\u001b[0m \u001b[0;36m10\u001b[0m\u001b[0;34m\u001b[0m\u001b[0;34m\u001b[0m\u001b[0m\n\u001b[1;32m      4\u001b[0m \u001b[0;32mwhile\u001b[0m \u001b[0;32mTrue\u001b[0m\u001b[0;34m:\u001b[0m\u001b[0;34m\u001b[0m\u001b[0;34m\u001b[0m\u001b[0m\n\u001b[0;32m----> 5\u001b[0;31m   \u001b[0mmoney\u001b[0m \u001b[0;34m=\u001b[0m \u001b[0mint\u001b[0m\u001b[0;34m(\u001b[0m\u001b[0minput\u001b[0m\u001b[0;34m(\u001b[0m\u001b[0;34m\"돈을 넣어 주세요: \"\u001b[0m\u001b[0;34m)\u001b[0m\u001b[0;34m)\u001b[0m\u001b[0;34m\u001b[0m\u001b[0;34m\u001b[0m\u001b[0m\n\u001b[0m\u001b[1;32m      6\u001b[0m   \u001b[0;32mif\u001b[0m \u001b[0mmoney\u001b[0m \u001b[0;34m==\u001b[0m \u001b[0;36m300\u001b[0m\u001b[0;34m:\u001b[0m\u001b[0;34m\u001b[0m\u001b[0;34m\u001b[0m\u001b[0m\n\u001b[1;32m      7\u001b[0m     \u001b[0mprint\u001b[0m\u001b[0;34m(\u001b[0m\u001b[0;34m\"커피를 줍니다.\"\u001b[0m\u001b[0;34m)\u001b[0m\u001b[0;34m\u001b[0m\u001b[0;34m\u001b[0m\u001b[0m\n",
            "\u001b[0;32m/usr/local/lib/python3.12/dist-packages/ipykernel/kernelbase.py\u001b[0m in \u001b[0;36mraw_input\u001b[0;34m(self, prompt)\u001b[0m\n\u001b[1;32m   1175\u001b[0m                 \u001b[0;34m\"raw_input was called, but this frontend does not support input requests.\"\u001b[0m\u001b[0;34m\u001b[0m\u001b[0;34m\u001b[0m\u001b[0m\n\u001b[1;32m   1176\u001b[0m             )\n\u001b[0;32m-> 1177\u001b[0;31m         return self._input_request(\n\u001b[0m\u001b[1;32m   1178\u001b[0m             \u001b[0mstr\u001b[0m\u001b[0;34m(\u001b[0m\u001b[0mprompt\u001b[0m\u001b[0;34m)\u001b[0m\u001b[0;34m,\u001b[0m\u001b[0;34m\u001b[0m\u001b[0;34m\u001b[0m\u001b[0m\n\u001b[1;32m   1179\u001b[0m             \u001b[0mself\u001b[0m\u001b[0;34m.\u001b[0m\u001b[0m_parent_ident\u001b[0m\u001b[0;34m[\u001b[0m\u001b[0;34m\"shell\"\u001b[0m\u001b[0;34m]\u001b[0m\u001b[0;34m,\u001b[0m\u001b[0;34m\u001b[0m\u001b[0;34m\u001b[0m\u001b[0m\n",
            "\u001b[0;32m/usr/local/lib/python3.12/dist-packages/ipykernel/kernelbase.py\u001b[0m in \u001b[0;36m_input_request\u001b[0;34m(self, prompt, ident, parent, password)\u001b[0m\n\u001b[1;32m   1217\u001b[0m             \u001b[0;32mexcept\u001b[0m \u001b[0mKeyboardInterrupt\u001b[0m\u001b[0;34m:\u001b[0m\u001b[0;34m\u001b[0m\u001b[0;34m\u001b[0m\u001b[0m\n\u001b[1;32m   1218\u001b[0m                 \u001b[0;31m# re-raise KeyboardInterrupt, to truncate traceback\u001b[0m\u001b[0;34m\u001b[0m\u001b[0;34m\u001b[0m\u001b[0m\n\u001b[0;32m-> 1219\u001b[0;31m                 \u001b[0;32mraise\u001b[0m \u001b[0mKeyboardInterrupt\u001b[0m\u001b[0;34m(\u001b[0m\u001b[0;34m\"Interrupted by user\"\u001b[0m\u001b[0;34m)\u001b[0m \u001b[0;32mfrom\u001b[0m \u001b[0;32mNone\u001b[0m\u001b[0;34m\u001b[0m\u001b[0;34m\u001b[0m\u001b[0m\n\u001b[0m\u001b[1;32m   1220\u001b[0m             \u001b[0;32mexcept\u001b[0m \u001b[0mException\u001b[0m\u001b[0;34m:\u001b[0m\u001b[0;34m\u001b[0m\u001b[0;34m\u001b[0m\u001b[0m\n\u001b[1;32m   1221\u001b[0m                 \u001b[0mself\u001b[0m\u001b[0;34m.\u001b[0m\u001b[0mlog\u001b[0m\u001b[0;34m.\u001b[0m\u001b[0mwarning\u001b[0m\u001b[0;34m(\u001b[0m\u001b[0;34m\"Invalid Message:\"\u001b[0m\u001b[0;34m,\u001b[0m \u001b[0mexc_info\u001b[0m\u001b[0;34m=\u001b[0m\u001b[0;32mTrue\u001b[0m\u001b[0;34m)\u001b[0m\u001b[0;34m\u001b[0m\u001b[0;34m\u001b[0m\u001b[0m\n",
            "\u001b[0;31mKeyboardInterrupt\u001b[0m: Interrupted by user"
          ]
        }
      ]
    },
    {
      "cell_type": "code",
      "source": [
        "# 1부터 10까지의 숫자 중 홀수만 출력\n",
        "\n",
        "a = 0\n",
        "while a < 10:\n",
        "  a = a + 1\n",
        "  if a % 2 == 0: continue\n",
        "  print(a)"
      ],
      "metadata": {
        "colab": {
          "base_uri": "https://localhost:8080/"
        },
        "id": "BG_wzX4wLlFo",
        "outputId": "ea5b9d68-828c-49f6-b6ba-24f929386640"
      },
      "execution_count": null,
      "outputs": [
        {
          "output_type": "stream",
          "name": "stdout",
          "text": [
            "1\n",
            "3\n",
            "5\n",
            "7\n",
            "9\n"
          ]
        }
      ]
    },
    {
      "cell_type": "code",
      "source": [
        "# 무한 루프\n",
        "# while True:\n",
        "#  print(\"Ctrl+C를 눌러야 while문에서 빠져나갈 수 있습니다.\")\n",
        "\n",
        "# 여기서 실행하면 안 멈춤. 실행 X..."
      ],
      "metadata": {
        "id": "UlvqYf2wMC_Q"
      },
      "execution_count": null,
      "outputs": []
    },
    {
      "cell_type": "code",
      "source": [
        "count = 0\n",
        "while count < 3:\n",
        "  print(f\"카운트: {count}\")\n",
        "  count += 1\n",
        "else:\n",
        "  print(\"while 문이 정상 종료되었습니다.\")"
      ],
      "metadata": {
        "colab": {
          "base_uri": "https://localhost:8080/"
        },
        "id": "JvCcDqYGMYus",
        "outputId": "5bc3c2e8-49a7-4abc-f91b-8c0f851ff552"
      },
      "execution_count": null,
      "outputs": [
        {
          "output_type": "stream",
          "name": "stdout",
          "text": [
            "카운트: 0\n",
            "카운트: 1\n",
            "카운트: 2\n",
            "while 문이 정상 종료되었습니다.\n"
          ]
        }
      ]
    },
    {
      "cell_type": "code",
      "source": [
        "# 중첩된 while문\n",
        "\n",
        "i = 1\n",
        "while i <= 3:\n",
        "  j = 1\n",
        "  while j <= 3:\n",
        "    print(f\"i={i}, j={j}\")\n",
        "    j += 1\n",
        "  i += 1"
      ],
      "metadata": {
        "colab": {
          "base_uri": "https://localhost:8080/"
        },
        "id": "YwokBjuVMunI",
        "outputId": "66c2abd1-f829-4d61-95de-5a662e317741"
      },
      "execution_count": null,
      "outputs": [
        {
          "output_type": "stream",
          "name": "stdout",
          "text": [
            "i=1, j=1\n",
            "i=1, j=2\n",
            "i=1, j=3\n",
            "i=2, j=1\n",
            "i=2, j=2\n",
            "i=2, j=3\n",
            "i=3, j=1\n",
            "i=3, j=2\n",
            "i=3, j=3\n"
          ]
        }
      ]
    },
    {
      "cell_type": "code",
      "source": [
        "# for 문 기본 구조\n",
        "\n",
        "# for 변수 in 리스트 (또는 튜플, 문자열):\n",
        "#   수행할_문장1\n",
        "#   수행할_문장2\n",
        "#   ..."
      ],
      "metadata": {
        "id": "7QJiO_SoO84E"
      },
      "execution_count": null,
      "outputs": []
    },
    {
      "cell_type": "code",
      "source": [
        "test_list = ['one', 'two', 'three']\n",
        "for i in test_list:\n",
        "  print(i)"
      ],
      "metadata": {
        "colab": {
          "base_uri": "https://localhost:8080/"
        },
        "id": "7Qba2bTmPGts",
        "outputId": "83985956-6871-4451-eeca-08a09b8fd35b"
      },
      "execution_count": null,
      "outputs": [
        {
          "output_type": "stream",
          "name": "stdout",
          "text": [
            "one\n",
            "two\n",
            "three\n"
          ]
        }
      ]
    },
    {
      "cell_type": "code",
      "source": [
        "a = [(1, 2), (3, 4), (5, 6)]\n",
        "for (first, last) in a:\n",
        "  print(first + last)"
      ],
      "metadata": {
        "colab": {
          "base_uri": "https://localhost:8080/"
        },
        "id": "LR_I_838P5IY",
        "outputId": "2cf6cd46-34e5-4261-d1dd-f0c3e9ae729f"
      },
      "execution_count": null,
      "outputs": [
        {
          "output_type": "stream",
          "name": "stdout",
          "text": [
            "3\n",
            "7\n",
            "11\n"
          ]
        }
      ]
    },
    {
      "cell_type": "code",
      "source": [
        "# 총 5명의 학생이 시험을 보았는데\n",
        "# 시험 점수가 60점 이상이면 합격이고 그렇지 않으면 불합격이다.\n",
        "# 합격인지, 불합격인지 결과를 보여준다.\n",
        "\n",
        "marks = [90, 25, 60, 45, 80] # 학생들의 시험 점수 리스트\n",
        "\n",
        "number = 0 # 학생에게 붙여줄 번호\n",
        "for mark in marks: # 90, 25, 60, 45, 85를 순서대로 mark에 대입\n",
        "  number = number + 1\n",
        "  if mark >= 60:\n",
        "    print(\"%d번 학생은 합격입니다.\" % number)\n",
        "  else:\n",
        "    print(\"%d번 학생은 불합격입니다.\" % number)"
      ],
      "metadata": {
        "colab": {
          "base_uri": "https://localhost:8080/"
        },
        "id": "I9pJrHEsRDr4",
        "outputId": "1bb0ac15-7510-46da-f096-89c637b429b8"
      },
      "execution_count": null,
      "outputs": [
        {
          "output_type": "stream",
          "name": "stdout",
          "text": [
            "1번 학생은 합격입니다.\n",
            "2번 학생은 불합격입니다.\n",
            "3번 학생은 합격입니다.\n",
            "4번 학생은 불합격입니다.\n",
            "5번 학생은 합격입니다.\n"
          ]
        }
      ]
    },
    {
      "cell_type": "code",
      "source": [
        "# for문과 continue문\n",
        "\n",
        "marks = [90, 25, 67, 45, 80]\n",
        "\n",
        "number = 0\n",
        "for mark in marks:\n",
        "  number = number + 1\n",
        "  if mark < 60:\n",
        "    continue\n",
        "  print(\"%d번 학생 축하합니다. 합격입니다.\" % number)"
      ],
      "metadata": {
        "colab": {
          "base_uri": "https://localhost:8080/"
        },
        "id": "FUKihzdvXheN",
        "outputId": "a3741521-ae7e-40ca-9446-0101fe8d2b13"
      },
      "execution_count": null,
      "outputs": [
        {
          "output_type": "stream",
          "name": "stdout",
          "text": [
            "1번 학생 축하합니다. 합격입니다.\n",
            "3번 학생 축하합니다. 합격입니다.\n",
            "5번 학생 축하합니다. 합격입니다.\n"
          ]
        }
      ]
    },
    {
      "cell_type": "code",
      "source": [
        "# for문과 함께 자주 사용하는 range 함수\n",
        "\n",
        "a = range(10)\n",
        "a\n",
        "\n",
        "# range(10)은 0부터 10 미만의 숫자를 포함하는 range 객체를 만들어준다."
      ],
      "metadata": {
        "colab": {
          "base_uri": "https://localhost:8080/"
        },
        "id": "fEVAuapUX9iU",
        "outputId": "86f256c9-d71f-49a4-e8f8-443ffdbf6d2b"
      },
      "execution_count": null,
      "outputs": [
        {
          "output_type": "execute_result",
          "data": {
            "text/plain": [
              "range(0, 10)"
            ]
          },
          "metadata": {},
          "execution_count": 9
        }
      ]
    },
    {
      "cell_type": "code",
      "source": [
        "add = 0\n",
        "for i in range(1, 11):\n",
        "  add = add + i\n",
        "\n",
        "print(add)"
      ],
      "metadata": {
        "colab": {
          "base_uri": "https://localhost:8080/"
        },
        "id": "9vD9fNr7YOfw",
        "outputId": "4b36d4fa-a20b-43a4-8328-e4d18416e59c"
      },
      "execution_count": null,
      "outputs": [
        {
          "output_type": "stream",
          "name": "stdout",
          "text": [
            "55\n"
          ]
        }
      ]
    },
    {
      "cell_type": "code",
      "source": [
        "# 중첩 for문과 rnage 함수로 구구단 만들기\n",
        "\n",
        "for i in range(2, 10):    # 1번 for문\n",
        "  for j in range(1, 10):  # 2번 for문\n",
        "    print(i*j, end=\" \")\n",
        "  print('')"
      ],
      "metadata": {
        "colab": {
          "base_uri": "https://localhost:8080/"
        },
        "id": "L_TIOCjVZc3I",
        "outputId": "3f24a447-5617-4815-ea61-2b6961f6a2cb"
      },
      "execution_count": null,
      "outputs": [
        {
          "output_type": "stream",
          "name": "stdout",
          "text": [
            "2 4 6 8 10 12 14 16 18 \n",
            "3 6 9 12 15 18 21 24 27 \n",
            "4 8 12 16 20 24 28 32 36 \n",
            "5 10 15 20 25 30 35 40 45 \n",
            "6 12 18 24 30 36 42 48 54 \n",
            "7 14 21 28 35 42 49 56 63 \n",
            "8 16 24 32 40 48 56 64 72 \n",
            "9 18 27 36 45 54 63 72 81 \n"
          ]
        }
      ]
    },
    {
      "cell_type": "code",
      "source": [
        "# 리스트 컴프리헨션 사용하기\n",
        "\n",
        "a = [1, 2, 3, 4]\n",
        "result = []\n",
        "for num in a:\n",
        "  result.append(num*3)\n",
        "\n",
        "print(result)"
      ],
      "metadata": {
        "colab": {
          "base_uri": "https://localhost:8080/"
        },
        "id": "wE7YoFY3b4yQ",
        "outputId": "0b9529c8-9c4a-4833-8a83-aad619a5e9ba"
      },
      "execution_count": null,
      "outputs": [
        {
          "output_type": "stream",
          "name": "stdout",
          "text": [
            "[3, 6, 9, 12]\n"
          ]
        }
      ]
    },
    {
      "cell_type": "code",
      "source": [
        "# 컴프리헨션 안에 if 조건문 넣기\n",
        "\n",
        "a = [1, 2, 3, 4]\n",
        "result = [num * 3 for num in a if num % 2 == 0]\n",
        "print(result)"
      ],
      "metadata": {
        "colab": {
          "base_uri": "https://localhost:8080/"
        },
        "id": "UIqb_iYocqCl",
        "outputId": "ded6ae61-841a-4585-bee1-e5afc6f638a7"
      },
      "execution_count": null,
      "outputs": [
        {
          "output_type": "stream",
          "name": "stdout",
          "text": [
            "[6, 12]\n"
          ]
        }
      ]
    },
    {
      "cell_type": "code",
      "source": [
        "# for문과 break문\n",
        "\n",
        "for i in range(10):\n",
        "  if i == 5:\n",
        "    break\n",
        "  print(i)"
      ],
      "metadata": {
        "colab": {
          "base_uri": "https://localhost:8080/"
        },
        "id": "-PRtpi82e0j8",
        "outputId": "4367ab49-852e-4b37-f37f-0832c3523014"
      },
      "execution_count": null,
      "outputs": [
        {
          "output_type": "stream",
          "name": "stdout",
          "text": [
            "0\n",
            "1\n",
            "2\n",
            "3\n",
            "4\n"
          ]
        }
      ]
    }
  ]
}