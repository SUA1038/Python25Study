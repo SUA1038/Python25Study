{
  "nbformat": 4,
  "nbformat_minor": 0,
  "metadata": {
    "colab": {
      "provenance": [],
      "authorship_tag": "ABX9TyMK/CYJNSDY7opa1nxBZpg6",
      "include_colab_link": true
    },
    "kernelspec": {
      "name": "python3",
      "display_name": "Python 3"
    },
    "language_info": {
      "name": "python"
    }
  },
  "cells": [
    {
      "cell_type": "markdown",
      "metadata": {
        "id": "view-in-github",
        "colab_type": "text"
      },
      "source": [
        "<a href=\"https://colab.research.google.com/github/SUA1038/Python25Study/blob/master/%EC%9E%90%EB%A3%8C%ED%98%95.ipynb\" target=\"_parent\"><img src=\"https://colab.research.google.com/assets/colab-badge.svg\" alt=\"Open In Colab\"/></a>"
      ]
    },
    {
      "cell_type": "code",
      "execution_count": 1,
      "metadata": {
        "colab": {
          "base_uri": "https://localhost:8080/"
        },
        "id": "5JOemFSQyted",
        "outputId": "ad77d35d-3ed0-4c19-9efd-2c88887a2748"
      },
      "outputs": [
        {
          "output_type": "stream",
          "name": "stdout",
          "text": [
            "123\n"
          ]
        }
      ],
      "source": [
        "# 숫자형\n",
        "# Number타입 : 정수, 실수, 8진수, 16진수, 2진수 등을 표현한다.\n",
        "\n",
        "a = 123\n",
        "print(a)\n"
      ]
    },
    {
      "cell_type": "code",
      "source": [
        "a = 123\n",
        "a =  -178\n",
        "a = 0\n",
        "\n",
        "print(a)"
      ],
      "metadata": {
        "colab": {
          "base_uri": "https://localhost:8080/"
        },
        "id": "DYJyX8ZE4bJu",
        "outputId": "c040898c-205b-4c54-ebfa-c006ea8770d1"
      },
      "execution_count": 3,
      "outputs": [
        {
          "output_type": "stream",
          "name": "stdout",
          "text": [
            "-178\n"
          ]
        }
      ]
    },
    {
      "cell_type": "code",
      "source": [
        "a = 1.2\n",
        "a = -3.45\n",
        "\n",
        "print(a)"
      ],
      "metadata": {
        "colab": {
          "base_uri": "https://localhost:8080/"
        },
        "id": "zfX5fKKE4pMj",
        "outputId": "6e52e540-3c79-4ac6-9de5-bc49139ff615"
      },
      "execution_count": 6,
      "outputs": [
        {
          "output_type": "stream",
          "name": "stdout",
          "text": [
            "-3.45\n"
          ]
        }
      ]
    },
    {
      "cell_type": "code",
      "source": [
        "a = 4.24E10\n",
        "a = 4.24e-10\n",
        "\n",
        "print(a)"
      ],
      "metadata": {
        "colab": {
          "base_uri": "https://localhost:8080/"
        },
        "id": "G8AdYDnM4uaj",
        "outputId": "45279b1e-f613-4bda-9823-0fc261a0a33b"
      },
      "execution_count": 7,
      "outputs": [
        {
          "output_type": "stream",
          "name": "stdout",
          "text": [
            "4.24e-10\n"
          ]
        }
      ]
    },
    {
      "cell_type": "code",
      "source": [
        "a = 0x8ff\n",
        "b = 0xABC\n",
        "print(b)"
      ],
      "metadata": {
        "colab": {
          "base_uri": "https://localhost:8080/"
        },
        "id": "1Vfb6d965FdH",
        "outputId": "a66ac9fd-6563-4cbc-c30c-21ff95bf8333"
      },
      "execution_count": 8,
      "outputs": [
        {
          "output_type": "stream",
          "name": "stdout",
          "text": [
            "2748\n"
          ]
        }
      ]
    },
    {
      "cell_type": "code",
      "source": [
        "# 사칙 연산\n",
        "a = 3\n",
        "b = 4\n",
        "\n",
        "print(a + b)\n",
        "print(a - b)\n",
        "print(a * b)\n",
        "print(a / b)"
      ],
      "metadata": {
        "colab": {
          "base_uri": "https://localhost:8080/"
        },
        "id": "GVmiI6Lc5MG3",
        "outputId": "db4152e6-abf4-46f7-c44c-3a08f70223df"
      },
      "execution_count": 11,
      "outputs": [
        {
          "output_type": "stream",
          "name": "stdout",
          "text": [
            "7\n",
            "-1\n",
            "12\n",
            "0.75\n"
          ]
        }
      ]
    },
    {
      "cell_type": "code",
      "source": [
        "# x의 y제곱을 나타내는 ** 연산자\n",
        "a = 3\n",
        "b = 4\n",
        "\n",
        "print(a ** b)"
      ],
      "metadata": {
        "colab": {
          "base_uri": "https://localhost:8080/"
        },
        "id": "_492GpBJ5jrI",
        "outputId": "9e0f0ae1-0e8f-48ff-e637-c424448073b6"
      },
      "execution_count": 12,
      "outputs": [
        {
          "output_type": "stream",
          "name": "stdout",
          "text": [
            "81\n"
          ]
        }
      ]
    },
    {
      "cell_type": "code",
      "source": [
        "# 나눗셈 후 나머지를 반환하는 % 연산자\n",
        "\n",
        "print(7 % 3)\n",
        "print(3 % 7)"
      ],
      "metadata": {
        "colab": {
          "base_uri": "https://localhost:8080/"
        },
        "id": "i6BaYNx05tQP",
        "outputId": "83f19d3c-fbe9-491f-accb-70322f04b863"
      },
      "execution_count": 13,
      "outputs": [
        {
          "output_type": "stream",
          "name": "stdout",
          "text": [
            "1\n",
            "3\n"
          ]
        }
      ]
    },
    {
      "cell_type": "code",
      "source": [
        "# 나눗셈 후 몫을 반환하는 // 연산자\n",
        "\n",
        "print(7/4)"
      ],
      "metadata": {
        "colab": {
          "base_uri": "https://localhost:8080/"
        },
        "id": "JB11ivwH54Pv",
        "outputId": "83ea25ea-85df-4e04-d85f-4159222fa9be"
      },
      "execution_count": 14,
      "outputs": [
        {
          "output_type": "stream",
          "name": "stdout",
          "text": [
            "1.75\n"
          ]
        }
      ]
    },
    {
      "cell_type": "code",
      "source": [
        "print( 7 // 4)\n",
        "# 1.75에서 몫에 해당하는 정숫값 1만 반환한다.\n"
      ],
      "metadata": {
        "colab": {
          "base_uri": "https://localhost:8080/"
        },
        "id": "ioS0W9Yt5_Nb",
        "outputId": "dccc0733-48df-42e5-dfae-7e67ca961646"
      },
      "execution_count": 15,
      "outputs": [
        {
          "output_type": "stream",
          "name": "stdout",
          "text": [
            "1\n"
          ]
        }
      ]
    },
    {
      "cell_type": "code",
      "source": [
        "# 복합 연산자\n",
        "\n",
        "a = a + 1 # a + 1 로 계산된 값을 다시 a에 대입한다.\n",
        "print(a) # a의 값이 1만큼 증가한다.\n",
        "# a = a + 1과 같은 표현식은 값을 증가시키기 위해 자주 사용.\n",
        "\n",
        "# 그러나 a = a + 1보다 아래 표현식을 자주 쓴다.\n",
        "a += 1\n",
        "\n",
        "print(a)\n"
      ],
      "metadata": {
        "colab": {
          "base_uri": "https://localhost:8080/"
        },
        "id": "rBdv-TBK6H8c",
        "outputId": "2532a1cf-1fb4-45d0-8d04-4f4872f3dd9e"
      },
      "execution_count": 27,
      "outputs": [
        {
          "output_type": "stream",
          "name": "stdout",
          "text": [
            "13\n",
            "14\n"
          ]
        }
      ]
    },
    {
      "cell_type": "code",
      "source": [
        "\"Hello World\" # 큰따옴표로 양쪽 둘러싸기"
      ],
      "metadata": {
        "colab": {
          "base_uri": "https://localhost:8080/",
          "height": 35
        },
        "id": "rWjbY-rt97PB",
        "outputId": "7e2cc457-bca4-43d8-e8c0-182583609039"
      },
      "execution_count": 24,
      "outputs": [
        {
          "output_type": "execute_result",
          "data": {
            "text/plain": [
              "'Pyton is fun'"
            ],
            "application/vnd.google.colaboratory.intrinsic+json": {
              "type": "string"
            }
          },
          "metadata": {},
          "execution_count": 24
        }
      ]
    },
    {
      "cell_type": "code",
      "source": [
        "'Python is fun' # 작은따옴표로 양쪽 둘러싸기"
      ],
      "metadata": {
        "id": "ojPJUi7X-KgU"
      },
      "execution_count": null,
      "outputs": []
    },
    {
      "cell_type": "code",
      "source": [
        "\"\"\"Life is too short, tou need python\"\"\"\n",
        "# 큰따옴표 3개를 연속으로 써서 양쪽 둘러싸기"
      ],
      "metadata": {
        "colab": {
          "base_uri": "https://localhost:8080/",
          "height": 35
        },
        "id": "8wjsz7J6-Owz",
        "outputId": "2794e872-8e37-4ebc-9d90-0d1df75a81c1"
      },
      "execution_count": 25,
      "outputs": [
        {
          "output_type": "execute_result",
          "data": {
            "text/plain": [
              "'Life is too short, tou need python'"
            ],
            "application/vnd.google.colaboratory.intrinsic+json": {
              "type": "string"
            }
          },
          "metadata": {},
          "execution_count": 25
        }
      ]
    },
    {
      "cell_type": "code",
      "source": [
        "'''Life is too short, You need pyuthon'''\n",
        "# 작은따옴표 3개를 연속으로 써서 양쪽 둘러싸기"
      ],
      "metadata": {
        "colab": {
          "base_uri": "https://localhost:8080/",
          "height": 35
        },
        "id": "yy2y6uOJ-Xy8",
        "outputId": "24d62a20-9bfd-42c7-e2ab-77d577367b77"
      },
      "execution_count": 28,
      "outputs": [
        {
          "output_type": "execute_result",
          "data": {
            "text/plain": [
              "'Life is too short, You need pyuthon'"
            ],
            "application/vnd.google.colaboratory.intrinsic+json": {
              "type": "string"
            }
          },
          "metadata": {},
          "execution_count": 28
        }
      ]
    },
    {
      "cell_type": "code",
      "source": [
        "# 문자열 안에 작은따옴표나 큰따옴표를 포함시키고 싶을 때\n",
        "\n",
        "food = \"Python's fravorite food is perl\"\n",
        "# 큰따옴표가 아닌 작은따옴표를 사용했으면 python을 글자로 인식하고 오류 발생\n",
        "\n",
        "print(food)"
      ],
      "metadata": {
        "colab": {
          "base_uri": "https://localhost:8080/"
        },
        "id": "G59Xo5-4-fKb",
        "outputId": "b6010e08-2db6-4bdc-e53b-af5d0c7830f4"
      },
      "execution_count": 31,
      "outputs": [
        {
          "output_type": "stream",
          "name": "stdout",
          "text": [
            "Python's fravorite food is perl\n"
          ]
        }
      ]
    },
    {
      "cell_type": "code",
      "source": [
        "# 문자열에 큰따옴표 포함하기\n",
        "\n",
        "say = '\"Python is very easy.\" he says.' # 문자열을 작은따옴표로 둘러싸면 된다.\n",
        "print(say)"
      ],
      "metadata": {
        "colab": {
          "base_uri": "https://localhost:8080/"
        },
        "id": "7NekU2wb-ZoD",
        "outputId": "7af500f6-0ebe-46ac-860c-14eb1358cc65"
      },
      "execution_count": 35,
      "outputs": [
        {
          "output_type": "stream",
          "name": "stdout",
          "text": [
            "\"Python is very easy.\" he says.\n"
          ]
        }
      ]
    },
    {
      "cell_type": "code",
      "source": [
        "# 역슬래시를 사용해서 작은따옴표와 큰따옴표를 문자열에 포함하기\n",
        "food = 'Python\\'s favorite food is perl'\n",
        "say = \"\\\"Python is very easy.\\\" he says.\"\n",
        "\n",
        "print(food)\n",
        "print(say)\n",
        "\n",
        "# 역슬래시를 사용 : 작은따옴표나 큰따옴표 앞에 삽입하면 기호의 의미가 아님을 뜻함"
      ],
      "metadata": {
        "colab": {
          "base_uri": "https://localhost:8080/"
        },
        "id": "s__qJseTB6-p",
        "outputId": "efdbda9c-f510-4776-a1a6-0abeafea13d1"
      },
      "execution_count": 37,
      "outputs": [
        {
          "output_type": "stream",
          "name": "stdout",
          "text": [
            "Python's favorite food is perl\n",
            "\"Python is very easy.\" he says.\n"
          ]
        }
      ]
    },
    {
      "cell_type": "code",
      "source": [
        "# 여러 줄인 문자열을 변수에 대입하고 싶을 때\n",
        "\n",
        "# \\n 을 삽입하여 줄바꿈하기\n",
        "multiline = \"Life is too short\\nYou need python\"\n",
        "print(multiline)\n",
        "\n",
        "# 연속된 작은따옴표 3개 또는 큰따옴표 3개 사용하기\n",
        "multiline2 = '''\n",
        "      Life is too short\n",
        "      You need python\n",
        "      '''\n",
        "print(multiline2)\n",
        "\n",
        "multiline3 = \"\"\"\n",
        "      Life is too short\n",
        "      You need python\n",
        "      \"\"\"\n",
        "print(multiline3)\n",
        "\n",
        "# 문자열이 여러 줄인 경우, 이스케이프 코드를 쓰는 것보다 따옴표 3개를 사용하는 것이 훨씬 깔끔하다."
      ],
      "metadata": {
        "colab": {
          "base_uri": "https://localhost:8080/"
        },
        "id": "hok9TacOCPvW",
        "outputId": "cd80c2a1-67ab-4f5b-aaf3-ae6171dbd483"
      },
      "execution_count": 41,
      "outputs": [
        {
          "output_type": "stream",
          "name": "stdout",
          "text": [
            "Life is too short\n",
            "You need python\n",
            "\n",
            "      Life is too short\n",
            "      You need python\n",
            "      \n",
            "\n",
            "      Life is too short\n",
            "      You need python\n",
            "      \n"
          ]
        }
      ]
    },
    {
      "cell_type": "code",
      "source": [
        "# 문자열을 더해서 연결하기\n",
        "head = \"Python\"\n",
        "tail = \" is fun!\"\n",
        "\n",
        "print(head + tail)"
      ],
      "metadata": {
        "colab": {
          "base_uri": "https://localhost:8080/"
        },
        "id": "VY0ZBkTJENKh",
        "outputId": "6ae11aed-5b79-4e50-cc20-a625b3b6918d"
      },
      "execution_count": 42,
      "outputs": [
        {
          "output_type": "stream",
          "name": "stdout",
          "text": [
            "Python is fun!\n"
          ]
        }
      ]
    },
    {
      "cell_type": "code",
      "source": [
        "# 문자열 곱하기\n",
        "a = \"python\"\n",
        "\n",
        "print(a * 2)"
      ],
      "metadata": {
        "colab": {
          "base_uri": "https://localhost:8080/"
        },
        "id": "XUJ1yRHsEph4",
        "outputId": "07114db8-5371-4cdc-dd85-3fe42739167e"
      },
      "execution_count": 43,
      "outputs": [
        {
          "output_type": "stream",
          "name": "stdout",
          "text": [
            "pythonpython\n"
          ]
        }
      ]
    },
    {
      "cell_type": "code",
      "source": [
        "# multistring.py\n",
        "\n",
        "print(\"=\" * 50)\n",
        "print(\"My Program\")\n",
        "print(\"=\" * 50)"
      ],
      "metadata": {
        "colab": {
          "base_uri": "https://localhost:8080/"
        },
        "id": "Dq5-OaI0FeZ1",
        "outputId": "f1100755-88cf-4088-df93-4c1286f3993d"
      },
      "execution_count": 44,
      "outputs": [
        {
          "output_type": "stream",
          "name": "stdout",
          "text": [
            "==================================================\n",
            "My Program\n",
            "==================================================\n"
          ]
        }
      ]
    },
    {
      "cell_type": "code",
      "source": [
        "# 문자열 길이 구하기\n",
        "\n",
        "a = \"Life is too short\"\n",
        "len(a)"
      ],
      "metadata": {
        "colab": {
          "base_uri": "https://localhost:8080/"
        },
        "id": "Vkl8TiugGJGT",
        "outputId": "26a9850d-3613-4aa2-9e8a-2a5abcbf21ee"
      },
      "execution_count": 45,
      "outputs": [
        {
          "output_type": "execute_result",
          "data": {
            "text/plain": [
              "17"
            ]
          },
          "metadata": {},
          "execution_count": 45
        }
      ]
    },
    {
      "cell_type": "code",
      "source": [
        "# 문자열 인덱싱\n",
        "\n",
        "a = \"Life is too short, You need Python\"\n",
        "a[3]"
      ],
      "metadata": {
        "colab": {
          "base_uri": "https://localhost:8080/",
          "height": 35
        },
        "id": "M_B-vReaGYYH",
        "outputId": "3ea8923d-5aaa-4a51-c76d-4d5b33cc65fc"
      },
      "execution_count": 46,
      "outputs": [
        {
          "output_type": "execute_result",
          "data": {
            "text/plain": [
              "'e'"
            ],
            "application/vnd.google.colaboratory.intrinsic+json": {
              "type": "string"
            }
          },
          "metadata": {},
          "execution_count": 46
        }
      ]
    },
    {
      "cell_type": "code",
      "source": [
        "# 문자열 인덱싱 활용하기\n",
        "\n",
        "a = \"Life is too short, You need Python\"\n",
        "print(a[0])\n",
        "print(a[12])\n",
        "print(a[-1])"
      ],
      "metadata": {
        "colab": {
          "base_uri": "https://localhost:8080/"
        },
        "id": "jcc1sxCEHHqs",
        "outputId": "af7c635e-3f69-4f4f-e4e6-ea79cd8ce7f9"
      },
      "execution_count": 48,
      "outputs": [
        {
          "output_type": "stream",
          "name": "stdout",
          "text": [
            "L\n",
            "s\n",
            "n\n"
          ]
        }
      ]
    },
    {
      "cell_type": "code",
      "source": [
        "# 문자열 슬라이싱\n",
        "\n",
        "a = \"Life is too short, You need Python\"\n",
        "b = a[0] + a[1] + a[2] + a[3]\n",
        "b"
      ],
      "metadata": {
        "colab": {
          "base_uri": "https://localhost:8080/",
          "height": 35
        },
        "id": "nDn8fbCkHggc",
        "outputId": "ccb50b6a-f8a9-4c19-e4ce-c014de18bb38"
      },
      "execution_count": 52,
      "outputs": [
        {
          "output_type": "execute_result",
          "data": {
            "text/plain": [
              "'Life'"
            ],
            "application/vnd.google.colaboratory.intrinsic+json": {
              "type": "string"
            }
          },
          "metadata": {},
          "execution_count": 52
        }
      ]
    },
    {
      "cell_type": "code",
      "source": [
        "a = \"Life is too short, You need Python\"\n",
        "a[0:4]"
      ],
      "metadata": {
        "colab": {
          "base_uri": "https://localhost:8080/",
          "height": 35
        },
        "id": "45kkVBLAIWZA",
        "outputId": "df5aa334-01bf-4480-d669-b373597e5f7e"
      },
      "execution_count": 53,
      "outputs": [
        {
          "output_type": "execute_result",
          "data": {
            "text/plain": [
              "'Life'"
            ],
            "application/vnd.google.colaboratory.intrinsic+json": {
              "type": "string"
            }
          },
          "metadata": {},
          "execution_count": 53
        }
      ]
    },
    {
      "cell_type": "code",
      "source": [
        "# 슬라이싱으로 문자열 나누기\n",
        "\n",
        "a = \"20230331Rainy\"\n",
        "date = a[:8]\n",
        "weather = a[8:]\n",
        "date # : '20230331'\n",
        "\n",
        "weather # : ' Rainy '"
      ],
      "metadata": {
        "colab": {
          "base_uri": "https://localhost:8080/",
          "height": 35
        },
        "id": "sgfb9EbUKslK",
        "outputId": "7d7cd1dc-a0cf-40a1-f268-be381e3dbe90"
      },
      "execution_count": 55,
      "outputs": [
        {
          "output_type": "execute_result",
          "data": {
            "text/plain": [
              "'Rainy'"
            ],
            "application/vnd.google.colaboratory.intrinsic+json": {
              "type": "string"
            }
          },
          "metadata": {},
          "execution_count": 55
        }
      ]
    },
    {
      "cell_type": "code",
      "source": [
        "# 문자열 포매팅\n",
        "\n",
        "# 숫자 바로 대입\n",
        "\"I eat %d apples.\" % 3"
      ],
      "metadata": {
        "colab": {
          "base_uri": "https://localhost:8080/",
          "height": 35
        },
        "id": "wwHzHNmLK_do",
        "outputId": "4a5e0a1b-d0d1-4e0c-b2e9-f4ec2c00624b"
      },
      "execution_count": 56,
      "outputs": [
        {
          "output_type": "execute_result",
          "data": {
            "text/plain": [
              "'I eat 3 apples.'"
            ],
            "application/vnd.google.colaboratory.intrinsic+json": {
              "type": "string"
            }
          },
          "metadata": {},
          "execution_count": 56
        }
      ]
    },
    {
      "cell_type": "code",
      "source": [
        "# 문자열 바로 대입\n",
        "\"I eat %s apples.\" % \"five\""
      ],
      "metadata": {
        "colab": {
          "base_uri": "https://localhost:8080/",
          "height": 35
        },
        "id": "oMqX5iaZLrdk",
        "outputId": "a93d1392-82e3-442c-c030-5096256b150a"
      },
      "execution_count": 57,
      "outputs": [
        {
          "output_type": "execute_result",
          "data": {
            "text/plain": [
              "'I eat five apples.'"
            ],
            "application/vnd.google.colaboratory.intrinsic+json": {
              "type": "string"
            }
          },
          "metadata": {},
          "execution_count": 57
        }
      ]
    },
    {
      "cell_type": "code",
      "source": [
        "# 숫자 값을 나타내는 변수로 대입\n",
        "\n",
        "number = 3\n",
        "\"I eat %d apples\" % number"
      ],
      "metadata": {
        "colab": {
          "base_uri": "https://localhost:8080/",
          "height": 35
        },
        "id": "hE7k3JahMOlo",
        "outputId": "11f0c9e4-9a3f-43be-85c3-fd7af91b4769"
      },
      "execution_count": 59,
      "outputs": [
        {
          "output_type": "execute_result",
          "data": {
            "text/plain": [
              "'I eat 3 apples'"
            ],
            "application/vnd.google.colaboratory.intrinsic+json": {
              "type": "string"
            }
          },
          "metadata": {},
          "execution_count": 59
        }
      ]
    },
    {
      "cell_type": "code",
      "source": [
        "# 2개 이상의 값 넣기\n",
        "\n",
        "number = 10\n",
        "day = \"three\"\n",
        "\"I ate %d apples. so I was sick for %s days.\" % (number, day)"
      ],
      "metadata": {
        "colab": {
          "base_uri": "https://localhost:8080/",
          "height": 35
        },
        "id": "Tm8PGvAWMWsI",
        "outputId": "e281bf5e-4440-41e1-bbcc-16c9ad7d0893"
      },
      "execution_count": 60,
      "outputs": [
        {
          "output_type": "execute_result",
          "data": {
            "text/plain": [
              "'I ate 10 apples. so I was sick for three days.'"
            ],
            "application/vnd.google.colaboratory.intrinsic+json": {
              "type": "string"
            }
          },
          "metadata": {},
          "execution_count": 60
        }
      ]
    },
    {
      "cell_type": "code",
      "source": [
        "# 포맷 코드와 숫자 함께 사용하기\n",
        "\n",
        "# 정렬과 공백\n",
        "\"%10s\" % \"hi\""
      ],
      "metadata": {
        "colab": {
          "base_uri": "https://localhost:8080/",
          "height": 35
        },
        "id": "i1JJrS2KNvg2",
        "outputId": "0c3d3f9d-40b9-41db-f7ad-090a1e5dad34"
      },
      "execution_count": 61,
      "outputs": [
        {
          "output_type": "execute_result",
          "data": {
            "text/plain": [
              "'        hi'"
            ],
            "application/vnd.google.colaboratory.intrinsic+json": {
              "type": "string"
            }
          },
          "metadata": {},
          "execution_count": 61
        }
      ]
    },
    {
      "cell_type": "code",
      "source": [
        "\"%-10sjane.\" % 'hi'"
      ],
      "metadata": {
        "colab": {
          "base_uri": "https://localhost:8080/",
          "height": 35
        },
        "id": "03tUwvNfN3Sk",
        "outputId": "03af3e99-4bb2-4c9d-8acf-75afac128fc9"
      },
      "execution_count": 63,
      "outputs": [
        {
          "output_type": "execute_result",
          "data": {
            "text/plain": [
              "'hi        jane.'"
            ],
            "application/vnd.google.colaboratory.intrinsic+json": {
              "type": "string"
            }
          },
          "metadata": {},
          "execution_count": 63
        }
      ]
    },
    {
      "cell_type": "code",
      "source": [
        "# 오른쪽 정렬\n",
        "\n",
        "\"{0:>10}\".format(\"hi\")"
      ],
      "metadata": {
        "colab": {
          "base_uri": "https://localhost:8080/",
          "height": 35
        },
        "id": "AtuBrY9jUJ7F",
        "outputId": "0d95260c-cfaa-4955-861e-f7706f17e6ec"
      },
      "execution_count": 64,
      "outputs": [
        {
          "output_type": "execute_result",
          "data": {
            "text/plain": [
              "'        hi'"
            ],
            "application/vnd.google.colaboratory.intrinsic+json": {
              "type": "string"
            }
          },
          "metadata": {},
          "execution_count": 64
        }
      ]
    },
    {
      "cell_type": "code",
      "source": [
        "# 왼쪽 정렬\n",
        "\n",
        "\"{0:<10}\".format(\"hi\")"
      ],
      "metadata": {
        "colab": {
          "base_uri": "https://localhost:8080/",
          "height": 35
        },
        "id": "JhWLD-F0UR2c",
        "outputId": "2a12b177-7bde-4c74-82b7-569257b22f31"
      },
      "execution_count": 65,
      "outputs": [
        {
          "output_type": "execute_result",
          "data": {
            "text/plain": [
              "'hi        '"
            ],
            "application/vnd.google.colaboratory.intrinsic+json": {
              "type": "string"
            }
          },
          "metadata": {},
          "execution_count": 65
        }
      ]
    },
    {
      "cell_type": "code",
      "source": [
        "# 가운데 정렬\n",
        "\n",
        "\"{0:^10}\".format(\"hi\")"
      ],
      "metadata": {
        "colab": {
          "base_uri": "https://localhost:8080/",
          "height": 35
        },
        "id": "Jmt71-gYUXEM",
        "outputId": "42bf5d0d-1564-4865-f28d-3e292871f67e"
      },
      "execution_count": 66,
      "outputs": [
        {
          "output_type": "execute_result",
          "data": {
            "text/plain": [
              "'    hi    '"
            ],
            "application/vnd.google.colaboratory.intrinsic+json": {
              "type": "string"
            }
          },
          "metadata": {},
          "execution_count": 66
        }
      ]
    },
    {
      "cell_type": "code",
      "source": [
        "# 공백 채우기\n",
        "\n",
        "\"{0:=^10}\".format(\"hi\")"
      ],
      "metadata": {
        "colab": {
          "base_uri": "https://localhost:8080/",
          "height": 35
        },
        "id": "JXA5OlCXUf68",
        "outputId": "6a7618da-62a0-4a4a-911b-f75e0e82c574"
      },
      "execution_count": 67,
      "outputs": [
        {
          "output_type": "execute_result",
          "data": {
            "text/plain": [
              "'====hi===='"
            ],
            "application/vnd.google.colaboratory.intrinsic+json": {
              "type": "string"
            }
          },
          "metadata": {},
          "execution_count": 67
        }
      ]
    },
    {
      "cell_type": "code",
      "source": [
        "\"{0:!<10}\".format(\"hi\")"
      ],
      "metadata": {
        "colab": {
          "base_uri": "https://localhost:8080/",
          "height": 35
        },
        "id": "8lZEJxG6UnOo",
        "outputId": "d41a39f4-5724-430c-cf3d-e27541efafca"
      },
      "execution_count": 68,
      "outputs": [
        {
          "output_type": "execute_result",
          "data": {
            "text/plain": [
              "'hi!!!!!!!!'"
            ],
            "application/vnd.google.colaboratory.intrinsic+json": {
              "type": "string"
            }
          },
          "metadata": {},
          "execution_count": 68
        }
      ]
    },
    {
      "cell_type": "code",
      "source": [
        "# 소수점 표현하기\n",
        "\n",
        "y = 3.42134234\n",
        "\"{0:0.4f}\".format(y)"
      ],
      "metadata": {
        "colab": {
          "base_uri": "https://localhost:8080/",
          "height": 35
        },
        "id": "P5mi0thzUsHY",
        "outputId": "dccf8df7-2f66-415e-ac2d-c3032a889e30"
      },
      "execution_count": 69,
      "outputs": [
        {
          "output_type": "execute_result",
          "data": {
            "text/plain": [
              "'3.4213'"
            ],
            "application/vnd.google.colaboratory.intrinsic+json": {
              "type": "string"
            }
          },
          "metadata": {},
          "execution_count": 69
        }
      ]
    }
  ]
}