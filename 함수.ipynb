{
  "nbformat": 4,
  "nbformat_minor": 0,
  "metadata": {
    "colab": {
      "provenance": [],
      "authorship_tag": "ABX9TyMOJYB23pjeFADWXgOY2FzD",
      "include_colab_link": true
    },
    "kernelspec": {
      "name": "python3",
      "display_name": "Python 3"
    },
    "language_info": {
      "name": "python"
    }
  },
  "cells": [
    {
      "cell_type": "markdown",
      "metadata": {
        "id": "view-in-github",
        "colab_type": "text"
      },
      "source": [
        "<a href=\"https://colab.research.google.com/github/SUA1038/Python25Study/blob/master/%ED%95%A8%EC%88%98.ipynb\" target=\"_parent\"><img src=\"https://colab.research.google.com/assets/colab-badge.svg\" alt=\"Open In Colab\"/></a>"
      ]
    },
    {
      "cell_type": "code",
      "execution_count": null,
      "metadata": {
        "colab": {
          "base_uri": "https://localhost:8080/"
        },
        "id": "M-2MUvPMwWQV",
        "outputId": "2ffd1051-29b9-484b-b3e4-18603835f2e7"
      },
      "outputs": [
        {
          "output_type": "stream",
          "name": "stdout",
          "text": [
            "7\n"
          ]
        }
      ],
      "source": [
        "# 파이썬 함수의 구조\n",
        "\n",
        "# def 함수_이름(매개변수):\n",
        "#   수행할_문장1\n",
        "#   수행할_문장2\n",
        "#   ..."
      ]
    },
    {
      "cell_type": "code",
      "source": [
        "a = 3\n",
        "b = 4\n",
        "c = add(a, b)\n",
        "print(c)"
      ],
      "metadata": {
        "colab": {
          "base_uri": "https://localhost:8080/"
        },
        "id": "YP-0QhX6yi3U",
        "outputId": "30313f62-d5c2-4802-ac28-4fa380458b03"
      },
      "execution_count": null,
      "outputs": [
        {
          "output_type": "stream",
          "name": "stdout",
          "text": [
            "7\n"
          ]
        }
      ]
    },
    {
      "cell_type": "code",
      "source": [
        "# 매개변수 : 함수에 입력으로 전달된 값을 받는 변수\n",
        "# 인수 : 함수를 호출할 때 전달하는 입력값\n",
        "\n",
        "def add(a, b):  # a, b : 매개변수\n",
        "  return a+b\n",
        "\n",
        "print(add(3, 4))  # 3, 4 : 인수"
      ],
      "metadata": {
        "colab": {
          "base_uri": "https://localhost:8080/"
        },
        "id": "RHE9cvEFyn8A",
        "outputId": "0b999406-c0c8-46d3-d5e4-163298118bcd"
      },
      "execution_count": null,
      "outputs": [
        {
          "output_type": "stream",
          "name": "stdout",
          "text": [
            "7\n"
          ]
        }
      ]
    },
    {
      "cell_type": "code",
      "source": [
        "a = add(3, 4)\n",
        "print(a)\n",
        "\n",
        "# 반환값을_받을_변수 = 함수_이름(입력_인수1, 입력_인수2, ...)"
      ],
      "metadata": {
        "colab": {
          "base_uri": "https://localhost:8080/"
        },
        "id": "YgJEUc8O0Nef",
        "outputId": "637080ca-68ba-47db-d780-2b9483d9d4a3"
      },
      "execution_count": null,
      "outputs": [
        {
          "output_type": "stream",
          "name": "stdout",
          "text": [
            "7\n"
          ]
        }
      ]
    },
    {
      "cell_type": "code",
      "source": [
        "# 입력값이 없는 함수\n",
        "\n",
        "def say():\n",
        "  return 'Hi'"
      ],
      "metadata": {
        "id": "8LopGa7F0WpB"
      },
      "execution_count": null,
      "outputs": []
    },
    {
      "cell_type": "code",
      "source": [
        "# 반환값이 없는 함수\n",
        "\n",
        "def add(a, b):\n",
        "  print(\"%d, %d의 합은 %d입니다.\" % (a, b, a+b))"
      ],
      "metadata": {
        "id": "IbZ5m_AS0bvp"
      },
      "execution_count": null,
      "outputs": []
    },
    {
      "cell_type": "code",
      "source": [
        "# 매개변수를 지정하여 호출하기\n",
        "\n",
        "def sub(a, b):\n",
        "  return a - b\n",
        "\n",
        "result = sub(a=7, b=3)\n",
        "print(result)\n",
        "\n",
        "# 매개변수를 지정하면 순서에 상관없이 사용할 수 있다는 장점이 있다.\n",
        "# reuslt = sub(b=5, a=3)"
      ],
      "metadata": {
        "colab": {
          "base_uri": "https://localhost:8080/"
        },
        "id": "vYhAIAQI0lN7",
        "outputId": "e756f28d-5d10-4c87-c8b8-7f816c7cef97"
      },
      "execution_count": null,
      "outputs": [
        {
          "output_type": "stream",
          "name": "stdout",
          "text": [
            "4\n"
          ]
        }
      ]
    },
    {
      "cell_type": "code",
      "source": [
        "# 여러 개의 입력값을 받는 함수 만들기\n",
        "\n",
        "def add_many(*args):\n",
        "  result = 0\n",
        "  for i in args:\n",
        "    result = result + i # *args에 입력받은 모든 값을 더한다.\n",
        "  return result\n",
        "\n",
        "result = add_many(1, 2, 3)\n",
        "print(result)\n",
        "\n",
        "result = add_many(1, 2, 3, 4, 5, 6, 7, 8, 9, 10)\n",
        "print(result)"
      ],
      "metadata": {
        "colab": {
          "base_uri": "https://localhost:8080/"
        },
        "id": "TWqVoCIh1pWC",
        "outputId": "633ba8b4-c76a-40e7-88c2-331346aa699f"
      },
      "execution_count": null,
      "outputs": [
        {
          "output_type": "stream",
          "name": "stdout",
          "text": [
            "6\n",
            "55\n"
          ]
        }
      ]
    },
    {
      "cell_type": "code",
      "source": [
        "def add_mul(choice, *args):\n",
        "  if choice == \"add\":   # 매개변수 choice에 \"add\"를 입력받았을 때\n",
        "    result = 0\n",
        "    for i in args:\n",
        "      result = result + i\n",
        "  elif choice == \"mul\":   # 매개변수 choice에 \"mul\"을 입력받았을 때\n",
        "\n",
        "    result = 1\n",
        "    for i in args:\n",
        "      result = result * i\n",
        "\n",
        "    return result\n",
        "\n",
        "result = add_mul('add', 1, 2, 3, 4, 5)\n",
        "print(result)\n",
        "\n",
        "result = add_mul('mul', 1, 2, 3, 4, 5)\n",
        "print(result)"
      ],
      "metadata": {
        "colab": {
          "base_uri": "https://localhost:8080/"
        },
        "id": "xUY__43m5HEy",
        "outputId": "3b6ff4fc-c4c5-4b51-c685-4a613fd631e9"
      },
      "execution_count": null,
      "outputs": [
        {
          "output_type": "stream",
          "name": "stdout",
          "text": [
            "None\n",
            "120\n"
          ]
        }
      ]
    },
    {
      "cell_type": "code",
      "source": [
        "# 키워드 매개변수, kwargs\n",
        "# 키워드 매개변수를 사용할 때는 매개변수 앞에 **을 붙인다.\n",
        "\n",
        "def print_kwargs(**kwargs):\n",
        "  print(kwargs)\n",
        "\n",
        "print_kwargs(a=1)\n",
        "# {'a': 1}\n",
        "\n",
        "print_kwargs(name='foo', age=3)\n",
        "# {'name': 'foo', 'age': 3}\n",
        "\n",
        "print_kwargs(name='홍길동', age=25, city='서울', job='개발자')\n",
        "# {'name': '홍길동', 'age': 25, 'city': '서울', 'job': '개발자'}"
      ],
      "metadata": {
        "colab": {
          "base_uri": "https://localhost:8080/"
        },
        "id": "DB3QB5P15KgV",
        "outputId": "6ddd8459-5caf-4ce9-8dc7-7c501b8b1687"
      },
      "execution_count": null,
      "outputs": [
        {
          "output_type": "stream",
          "name": "stdout",
          "text": [
            "{'a': 1}\n",
            "{'name': 'foo', 'age': 3}\n",
            "{'name': '홍길동', 'age': 25, 'city': '서울', 'job': '개발자'}\n"
          ]
        }
      ]
    },
    {
      "cell_type": "code",
      "source": [
        "def create_profile(**info):\n",
        "  print(\"=== 프로필 정보 ===\")\n",
        "  for key, value in info.items():\n",
        "    print(f\"{key}: {value}\")\n",
        "\n",
        "create_profile(이름='김철수', 나이=30, 직업='프로그래머', 취미='독서')"
      ],
      "metadata": {
        "colab": {
          "base_uri": "https://localhost:8080/"
        },
        "id": "BFKCwrTp9m8w",
        "outputId": "39ea1a14-a7f9-4b9d-85bb-2ada0bb3cc81"
      },
      "execution_count": null,
      "outputs": [
        {
          "output_type": "stream",
          "name": "stdout",
          "text": [
            "=== 프로필 정보 ===\n",
            "이름: 김철수\n",
            "나이: 30\n",
            "직업: 프로그래머\n",
            "취미: 독서\n"
          ]
        }
      ]
    },
    {
      "cell_type": "code",
      "source": [
        "def mixed_function(name, *args, **kwargs):\n",
        "  print(f\"이름: {name}\")\n",
        "  print(f\"추가 인수들: {args}\")\n",
        "  print(f\"키워드 인수들: {kwargs}\")\n",
        "\n",
        "mixed_function('홍길동', 1, 2, 3, age=25, city='서울')"
      ],
      "metadata": {
        "colab": {
          "base_uri": "https://localhost:8080/"
        },
        "id": "blXk_jZ-C7j-",
        "outputId": "ff8f1e8f-f8f3-4b1e-d763-eafdb0a2719e"
      },
      "execution_count": null,
      "outputs": [
        {
          "output_type": "stream",
          "name": "stdout",
          "text": [
            "이름: 홍길동\n",
            "추가 인수들: (1, 2, 3)\n",
            "키워드 인수들: {'age': 25, 'city': '서울'}\n"
          ]
        }
      ]
    },
    {
      "cell_type": "code",
      "source": [
        "def add_and_mul(a, b):\n",
        "  return a+b, a*b\n",
        "\n",
        "result = add_and_mul(3, 4)"
      ],
      "metadata": {
        "id": "a-04DLFJDWfZ"
      },
      "execution_count": null,
      "outputs": []
    },
    {
      "cell_type": "code",
      "source": [
        "def say_nick(nick):\n",
        "  if nick == \"바보\":\n",
        "    return\n",
        "  print(\"나의 별명은 %s 입니다.\" % nick)\n",
        "\n",
        "say_nick('야호')\n",
        "say_nick('바보')"
      ],
      "metadata": {
        "colab": {
          "base_uri": "https://localhost:8080/"
        },
        "id": "t5THMHbGVFxR",
        "outputId": "ee92ab29-7659-4dd1-e9ea-40ad74bbf9a2"
      },
      "execution_count": null,
      "outputs": [
        {
          "output_type": "stream",
          "name": "stdout",
          "text": [
            "나의 별명은 야호 입니다.\n"
          ]
        }
      ]
    },
    {
      "cell_type": "code",
      "source": [
        "# 매개변수에 초깃값 미리 설정하기\n",
        "\n",
        "def say_myself(name, age, man=True): # age와 man_True의 순서가 바뀌면 오류 발생 주의\n",
        "  print(\"나의 이름은 %s 입니다.\" % name)\n",
        "  print(\"나이는 %d 살입니다.\" % age)\n",
        "\n",
        "  if man:\n",
        "    print(\"남자입니다.\")\n",
        "  else:\n",
        "    print(\"여자입니다.\")\n",
        "\n",
        "say_myself(\"박응용\", 27)"
      ],
      "metadata": {
        "colab": {
          "base_uri": "https://localhost:8080/"
        },
        "id": "mXbfohO8VISV",
        "outputId": "4c759449-face-47e9-976e-d920bf25efa0"
      },
      "execution_count": null,
      "outputs": [
        {
          "output_type": "stream",
          "name": "stdout",
          "text": [
            "나의 이름은 박응용 입니다.\n",
            "나이는 27 살입니다.\n",
            "남자입니다.\n"
          ]
        }
      ]
    },
    {
      "cell_type": "code",
      "source": [
        "a = 1\n",
        "def vartest(a):\n",
        "  a = a + 1\n",
        "\n",
        "vartest(a)\n",
        "print(a)\n",
        "# 함수 안에 있는 a는 사본이기 때문에 밖에 있는 진짜 a는 1의 값이 들어간다."
      ],
      "metadata": {
        "colab": {
          "base_uri": "https://localhost:8080/"
        },
        "id": "7oBvzSK5ZOah",
        "outputId": "f687057e-4436-43ab-cca2-e4c16604ef69"
      },
      "execution_count": null,
      "outputs": [
        {
          "output_type": "stream",
          "name": "stdout",
          "text": [
            "1\n"
          ]
        }
      ]
    },
    {
      "cell_type": "code",
      "source": [
        "def vartest(a):\n",
        "  a = a + 1\n",
        "\n",
        "  vartest(3)\n",
        "  print(a) # a 변수는 어디에도 선언되지 않았기 때문에 값이 나오지 않는다.\n",
        "  # -> 함수 안에 있는 건 선언된 값이 아니다"
      ],
      "metadata": {
        "id": "8X2Ok3WkaUPn"
      },
      "execution_count": null,
      "outputs": []
    },
    {
      "cell_type": "code",
      "source": [
        "# 함수 안에서 함수 밖의 변수를 변경하는 방법\n",
        "\n",
        "# 1. return 사용하기\n",
        "a = 1\n",
        "def vartest(a):\n",
        "  a = a + 1\n",
        "  return a\n",
        "\n",
        "a = vartest(a)\n",
        "print(a)\n",
        "\n",
        "# 2. global 명령어 사용하기 (비추천)\n",
        "a = 1\n",
        "def vartest():\n",
        "  global a\n",
        "  a = a + 1\n",
        "\n",
        "vartest()\n",
        "print(a)"
      ],
      "metadata": {
        "id": "ASPpOXkEbK-4"
      },
      "execution_count": null,
      "outputs": []
    }
  ]
}